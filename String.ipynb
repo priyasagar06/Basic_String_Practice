{
  "nbformat": 4,
  "nbformat_minor": 0,
  "metadata": {
    "colab": {
      "provenance": []
    },
    "kernelspec": {
      "name": "python3",
      "display_name": "Python 3"
    },
    "language_info": {
      "name": "python"
    }
  },
  "cells": [
    {
      "cell_type": "markdown",
      "source": [
        "# Strings\n",
        "\n",
        "- Strings in python are surrounded by either single quotation marks, or double quotation marks.\n",
        "\n",
        "- 'India' is the same as \"India\"\n"
      ],
      "metadata": {
        "id": "C2htJ5QkUmyW"
      }
    },
    {
      "cell_type": "markdown",
      "source": [
        "### Create a variable containing STRING"
      ],
      "metadata": {
        "id": "u6ZdJZ6aVXof"
      }
    },
    {
      "cell_type": "code",
      "source": [
        "a = \"India\"\n",
        "print(a)"
      ],
      "metadata": {
        "colab": {
          "base_uri": "https://localhost:8080/"
        },
        "id": "BFl3JSgIUnhN",
        "outputId": "8abc0fb7-984d-4bae-ddfe-fdf834a34952"
      },
      "execution_count": null,
      "outputs": [
        {
          "output_type": "stream",
          "name": "stdout",
          "text": [
            "India\n"
          ]
        }
      ]
    },
    {
      "cell_type": "code",
      "source": [
        "## Multiline Strings: should enclosed within triple single/double quotes\n",
        "\n",
        "a = \"\"\"This is a multiline string.\n",
        "I am writing this string for demo purpose.\n",
        "You can see it is enclosed within thrice double quotes\"\"\"\n",
        "\n",
        "print(a)\n",
        "\n",
        "# you can notice in result that new line is printed same as it is written"
      ],
      "metadata": {
        "colab": {
          "base_uri": "https://localhost:8080/"
        },
        "id": "V6MFFlipVfbD",
        "outputId": "30a949ff-e8b8-4f05-e332-23af51b50749"
      },
      "execution_count": null,
      "outputs": [
        {
          "output_type": "stream",
          "name": "stdout",
          "text": [
            "This is a multiline string.\n",
            "I am writing this string for demo purpose.\n",
            "You can see it is enclosed within thrice double quotes\n"
          ]
        }
      ]
    },
    {
      "cell_type": "markdown",
      "source": [
        "### Slicing\n",
        "- You can slice the string by passing its index.\n",
        "- Positive index start from ZERO and goes from left to right\n",
        "- Negative index start from -1 and goes from right from left\n",
        "- Starting index starts slicing from same index\n",
        "- Ending index ends slicing one step before.\n",
        "- Syntax: string[Start : Stop : Step]\n",
        "\n",
        "![image.png](data:image/png;base64,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)"
      ],
      "metadata": {
        "id": "qChOFU1Ka7NP"
      }
    },
    {
      "cell_type": "code",
      "source": [
        "# Slice string from index 2 to 4\n",
        "# You can notice slicing start from 2(start index) but it ended at 3 instead of 4\n",
        "country = \"India\"\n",
        "country[2:4]"
      ],
      "metadata": {
        "colab": {
          "base_uri": "https://localhost:8080/",
          "height": 35
        },
        "id": "8K05d-00eI5j",
        "outputId": "e671b304-8649-49fc-e755-9d53614a28d3"
      },
      "execution_count": null,
      "outputs": [
        {
          "output_type": "execute_result",
          "data": {
            "text/plain": [
              "'di'"
            ],
            "application/vnd.google.colaboratory.intrinsic+json": {
              "type": "string"
            }
          },
          "metadata": {},
          "execution_count": 11
        }
      ]
    },
    {
      "cell_type": "code",
      "source": [
        "# Slice From the Start: If start index missing it will take default=0\n",
        "country = \"India\"\n",
        "country[:4]"
      ],
      "metadata": {
        "colab": {
          "base_uri": "https://localhost:8080/",
          "height": 35
        },
        "id": "GCo-0iote7Lz",
        "outputId": "eaad5520-f9b4-4f44-b3a1-31b6a0c021b3"
      },
      "execution_count": null,
      "outputs": [
        {
          "output_type": "execute_result",
          "data": {
            "text/plain": [
              "'Indi'"
            ],
            "application/vnd.google.colaboratory.intrinsic+json": {
              "type": "string"
            }
          },
          "metadata": {},
          "execution_count": 12
        }
      ]
    },
    {
      "cell_type": "code",
      "source": [
        "# Slice To the End: If end index missing then it will take default=last index\n",
        "country = \"India\"\n",
        "country[2:]"
      ],
      "metadata": {
        "colab": {
          "base_uri": "https://localhost:8080/",
          "height": 35
        },
        "id": "z2RNbDiffGnh",
        "outputId": "13d69089-dd39-45ed-e89a-4ed2dac7bb54"
      },
      "execution_count": null,
      "outputs": [
        {
          "output_type": "execute_result",
          "data": {
            "text/plain": [
              "'dia'"
            ],
            "application/vnd.google.colaboratory.intrinsic+json": {
              "type": "string"
            }
          },
          "metadata": {},
          "execution_count": 14
        }
      ]
    },
    {
      "cell_type": "markdown",
      "source": [
        "### Negative Indexing\n",
        "- You can use negative index in same as we used positive"
      ],
      "metadata": {
        "id": "Lv4HZyMQfoVD"
      }
    },
    {
      "cell_type": "code",
      "source": [
        "# Slice letters di using negative indexing\n",
        "country = \"India\"\n",
        "country[-3:-1]"
      ],
      "metadata": {
        "colab": {
          "base_uri": "https://localhost:8080/",
          "height": 35
        },
        "id": "ZXl4vqDlfvxC",
        "outputId": "0a851c34-c00e-41b0-ad32-b040858fefd4"
      },
      "execution_count": null,
      "outputs": [
        {
          "output_type": "execute_result",
          "data": {
            "text/plain": [
              "'di'"
            ],
            "application/vnd.google.colaboratory.intrinsic+json": {
              "type": "string"
            }
          },
          "metadata": {},
          "execution_count": 18
        }
      ]
    },
    {
      "cell_type": "markdown",
      "source": [
        "### Steps In Slicing\n",
        "- Steps decide the direction of printing for sliced index and how many stpes\n",
        "- Positive step means left to right and negative step means right to left\n",
        "- Default step=1, means take a 1 step from left to right.\n",
        "- Step=-2, means take 2 steps from right to left\n",
        "- Approach should be as following\n",
        "1. Start slicing from StartIndex\n",
        "2. End slicing at EndIndex-1\n",
        "3. After slicing between start and end index check step\n",
        "4. Print letter as per step sign and value\n"
      ],
      "metadata": {
        "id": "7orleVEugc8W"
      }
    },
    {
      "cell_type": "code",
      "source": [
        "# Slice with step 2: You can notice in result, after \"H\" it took 2 steps in right side to letter \"l\" and continue to do same\n",
        "string = \"Hello World\"\n",
        "string[0:12:2]"
      ],
      "metadata": {
        "colab": {
          "base_uri": "https://localhost:8080/",
          "height": 35
        },
        "id": "9_ZAODQ8iVIE",
        "outputId": "3275434c-11f6-40ff-f2d5-2cc2a068e8e7"
      },
      "execution_count": null,
      "outputs": [
        {
          "output_type": "execute_result",
          "data": {
            "text/plain": [
              "'HloWrd'"
            ],
            "application/vnd.google.colaboratory.intrinsic+json": {
              "type": "string"
            }
          },
          "metadata": {},
          "execution_count": 20
        }
      ]
    },
    {
      "cell_type": "code",
      "source": [
        "# Slice with step 3\n",
        "string = \"Hello World\"\n",
        "string[0:12:3]"
      ],
      "metadata": {
        "colab": {
          "base_uri": "https://localhost:8080/",
          "height": 35
        },
        "id": "Oe4NZZ_XjI-5",
        "outputId": "8809c1e9-e9c0-422e-af25-a608d851a644"
      },
      "execution_count": null,
      "outputs": [
        {
          "output_type": "execute_result",
          "data": {
            "text/plain": [
              "'HlWl'"
            ],
            "application/vnd.google.colaboratory.intrinsic+json": {
              "type": "string"
            }
          },
          "metadata": {},
          "execution_count": 22
        }
      ]
    },
    {
      "cell_type": "code",
      "source": [
        "# Slice with step -1: You can see result only letter \"H\", why? reason StartIndex=0 and EndIndex=Last letter\n",
        "# step=-1 means it will start printing from \"H\"\n",
        "# further will take 1 step in left side and will end.\n",
        "string = \"Hello World\"\n",
        "string[0::-1]"
      ],
      "metadata": {
        "colab": {
          "base_uri": "https://localhost:8080/",
          "height": 35
        },
        "id": "MkBqsbbzjXwl",
        "outputId": "f81d719e-b411-4d7f-9592-59ebb2df683b"
      },
      "execution_count": null,
      "outputs": [
        {
          "output_type": "execute_result",
          "data": {
            "text/plain": [
              "'H'"
            ],
            "application/vnd.google.colaboratory.intrinsic+json": {
              "type": "string"
            }
          },
          "metadata": {},
          "execution_count": 25
        }
      ]
    },
    {
      "cell_type": "code",
      "source": [
        "# Slice string in reverse order: Notice StartIndex=0 and EndIndex=last letter step=-1, means it will start printing it from right to left\n",
        "string = \"Hello World\"\n",
        "string[::-1]"
      ],
      "metadata": {
        "colab": {
          "base_uri": "https://localhost:8080/",
          "height": 35
        },
        "id": "m78c3_M4jbys",
        "outputId": "99269086-9507-42a4-fbbb-6179c5b193e7"
      },
      "execution_count": null,
      "outputs": [
        {
          "output_type": "execute_result",
          "data": {
            "text/plain": [
              "'dlroW olleH'"
            ],
            "application/vnd.google.colaboratory.intrinsic+json": {
              "type": "string"
            }
          },
          "metadata": {},
          "execution_count": 24
        }
      ]
    },
    {
      "cell_type": "markdown",
      "source": [
        "### String Concatenation\n",
        "- To concatenate, or combine, two strings you can use the + operator.\n",
        "- If you want to add space then use syntax: a+\" \"+b"
      ],
      "metadata": {
        "id": "AhzwjG41nFGh"
      }
    },
    {
      "cell_type": "code",
      "source": [
        "# Without Space\n",
        "a = \"Hello\"\n",
        "b = \"World\"\n",
        "c = a + b\n",
        "print(c)"
      ],
      "metadata": {
        "id": "q5Bmv8KXkA7N"
      },
      "execution_count": null,
      "outputs": []
    },
    {
      "cell_type": "code",
      "source": [
        "# with space\n",
        "a = \"Hello\"\n",
        "b = \"World\"\n",
        "c = a + \" \" + b\n",
        "print(c)"
      ],
      "metadata": {
        "id": "j82Ees0kjR6I"
      },
      "execution_count": null,
      "outputs": []
    },
    {
      "cell_type": "markdown",
      "source": [
        "### String Format\n",
        "- format() method takes the arguments in sequence and place them at placeholder {}\n",
        "- if inside curly bracket, you are putting 1 like {2} then firt passed argument will get placed at {2}"
      ],
      "metadata": {
        "id": "AugxrLmonzRr"
      }
    },
    {
      "cell_type": "code",
      "source": [
        "a = \"My Name Is {} and I am {} years old\".format(\"Rahul\",21)\n",
        "print(a)"
      ],
      "metadata": {
        "colab": {
          "base_uri": "https://localhost:8080/"
        },
        "id": "qbt1-6HZioH_",
        "outputId": "cf3c78c7-05e5-4faf-f4d3-f5971b012e0c"
      },
      "execution_count": null,
      "outputs": [
        {
          "output_type": "stream",
          "name": "stdout",
          "text": [
            "My Name Is Rahul and I am 21 years old\n"
          ]
        }
      ]
    },
    {
      "cell_type": "code",
      "source": [
        "# Now pass position of passed arguments: You can notice that {1} replaced with 21 and {0} replaced with Rahul\n",
        "# reason index of Rahul=0 and 21=1 in passed arguments\n",
        "a = \"My Name Is {1} and I am {0} years old\".format(\"Rahul\",21)\n",
        "print(a)"
      ],
      "metadata": {
        "colab": {
          "base_uri": "https://localhost:8080/"
        },
        "id": "bVJnf8NkowZR",
        "outputId": "8882a577-e4fa-4aa0-f9ba-9f4d26aa27e4"
      },
      "execution_count": null,
      "outputs": [
        {
          "output_type": "stream",
          "name": "stdout",
          "text": [
            "My Name Is 21 and I am Rahul years old\n"
          ]
        }
      ]
    },
    {
      "cell_type": "code",
      "source": [
        "quantity = 3\n",
        "itemno = 567\n",
        "price = 49.95\n",
        "myorder = \"I want to pay {2} dollars for {0} pieces of item {1}.\"\n",
        "print(myorder.format(quantity, itemno, price))"
      ],
      "metadata": {
        "colab": {
          "base_uri": "https://localhost:8080/"
        },
        "id": "ybUraol9pMED",
        "outputId": "db3b2b2d-4ee0-4d39-b2fc-22071e6a5ed1"
      },
      "execution_count": null,
      "outputs": [
        {
          "output_type": "stream",
          "name": "stdout",
          "text": [
            "I want to pay 49.95 dollars for 3 pieces of item 567.\n"
          ]
        }
      ]
    },
    {
      "cell_type": "code",
      "source": [
        "name =\"Rahul\"\n",
        "age = 20\n",
        "print(f\"I am {name} and I am {age} yeaar old\")"
      ],
      "metadata": {
        "colab": {
          "base_uri": "https://localhost:8080/"
        },
        "id": "Sf5hi0HH0KF1",
        "outputId": "243392da-ee0f-45cc-d7af-c9f48c24c513"
      },
      "execution_count": null,
      "outputs": [
        {
          "output_type": "stream",
          "name": "stdout",
          "text": [
            "I am Rahul and I am 20 yeaar old\n"
          ]
        }
      ]
    },
    {
      "cell_type": "markdown",
      "source": [
        "### Escape Character\n",
        "- Escape character are used to escape illegal character in string\n",
        "- An example of an illegal character is a double quote inside a string that is surrounded by double quotes\n",
        "- backslash \"\\\" is used to escape the character"
      ],
      "metadata": {
        "id": "lzOGCyoopps6"
      }
    },
    {
      "cell_type": "code",
      "source": [
        "# We will get error if used double quote inside double quoted string\n",
        "txt = \"This is the \"demo\" string\""
      ],
      "metadata": {
        "id": "rOx6WhGqp8U9"
      },
      "execution_count": null,
      "outputs": []
    },
    {
      "cell_type": "code",
      "source": [
        "# In order to escape those double quotes of word demo,use the escape character backslash\n",
        "txt = \"This is the \\\"demo\\\" string\""
      ],
      "metadata": {
        "id": "cxuv4WOoqPgm"
      },
      "execution_count": null,
      "outputs": []
    },
    {
      "cell_type": "markdown",
      "source": [
        "### Commonly used ESCAPE character"
      ],
      "metadata": {
        "id": "t2Aw2IKJrK9Z"
      }
    },
    {
      "cell_type": "code",
      "source": [
        "# Single Quote\n",
        "string = 'It\\'s correct.'\n",
        "print(string)\n"
      ],
      "metadata": {
        "colab": {
          "base_uri": "https://localhost:8080/"
        },
        "id": "tyZS2xB2rO4Q",
        "outputId": "1388e327-248a-4463-b78a-655849f85816"
      },
      "execution_count": null,
      "outputs": [
        {
          "output_type": "stream",
          "name": "stdout",
          "text": [
            "It's correct.\n"
          ]
        }
      ]
    },
    {
      "cell_type": "code",
      "source": [
        "# Backslash\n",
        "string = \"Lets insert one \\\\ (backslash).\"\n",
        "print(string)\n"
      ],
      "metadata": {
        "colab": {
          "base_uri": "https://localhost:8080/"
        },
        "id": "Sf04h8jarXkg",
        "outputId": "adffa258-471c-4599-c11e-459da62e9f93"
      },
      "execution_count": null,
      "outputs": [
        {
          "output_type": "stream",
          "name": "stdout",
          "text": [
            "Lets insert one \\ (backslash).\n"
          ]
        }
      ]
    },
    {
      "cell_type": "code",
      "source": [
        "# New Line\n",
        "string = \"Hello\\nWorld!\"\n",
        "print(string)\n"
      ],
      "metadata": {
        "colab": {
          "base_uri": "https://localhost:8080/"
        },
        "id": "P_9k0j6wsnmT",
        "outputId": "476cdd0b-1d08-4b75-d11f-f1bf966947e0"
      },
      "execution_count": null,
      "outputs": [
        {
          "output_type": "stream",
          "name": "stdout",
          "text": [
            "Hello\n",
            "World!\n"
          ]
        }
      ]
    },
    {
      "cell_type": "code",
      "source": [
        "# Tab\n",
        "string = \"Hello\\tWorld!\"\n",
        "print(string)\n"
      ],
      "metadata": {
        "colab": {
          "base_uri": "https://localhost:8080/"
        },
        "id": "PTsonD0LsvwR",
        "outputId": "7d69f1f4-0d3e-4991-c76e-581a8e418389"
      },
      "execution_count": null,
      "outputs": [
        {
          "output_type": "stream",
          "name": "stdout",
          "text": [
            "Hello\tWorld!\n"
          ]
        }
      ]
    },
    {
      "cell_type": "markdown",
      "source": [
        "### Popular String Methods"
      ],
      "metadata": {
        "id": "kDXW-vt-s-c6"
      }
    },
    {
      "cell_type": "markdown",
      "source": [
        "<h4> 1. capitalize(): Converts the first character to upper case </h4>"
      ],
      "metadata": {
        "id": "EBpJYeQ9tHOW"
      }
    },
    {
      "cell_type": "code",
      "source": [
        "string = \"this will convert first character to upper case\"\n",
        "\n",
        "x = string.capitalize()\n",
        "\n",
        "print (x)"
      ],
      "metadata": {
        "colab": {
          "base_uri": "https://localhost:8080/"
        },
        "id": "m7CHaROvtd7j",
        "outputId": "5cf99ffe-984d-44f3-c5a3-ce851e64948c"
      },
      "execution_count": null,
      "outputs": [
        {
          "output_type": "stream",
          "name": "stdout",
          "text": [
            "This will convert first character to upper case\n"
          ]
        }
      ]
    },
    {
      "cell_type": "markdown",
      "source": [
        "<h4> 2. center(): Returns a centered string after padding it with the specified character</h4>"
      ],
      "metadata": {
        "id": "vBa7dcUguNSC"
      }
    },
    {
      "cell_type": "code",
      "source": [
        "string = \"India\"\n",
        "\n",
        "x = string.center(20,\"#\")\n",
        "\n",
        "print(x)"
      ],
      "metadata": {
        "colab": {
          "base_uri": "https://localhost:8080/"
        },
        "id": "Wwq7v3ci1XBa",
        "outputId": "8cd08ce2-f8d8-4327-8029-594de27c94bf"
      },
      "execution_count": null,
      "outputs": [
        {
          "output_type": "stream",
          "name": "stdout",
          "text": [
            "#######India########\n"
          ]
        }
      ]
    },
    {
      "cell_type": "markdown",
      "source": [
        "<h4> 3. count() : Returns the number of times a specified value occurs in a string</h4>"
      ],
      "metadata": {
        "id": "G7_yGzN62aX4"
      }
    },
    {
      "cell_type": "code",
      "source": [
        "string = \"Take left and then take first left\"\n",
        "\n",
        "x = string.count(\"left\")\n",
        "\n",
        "print(x)"
      ],
      "metadata": {
        "colab": {
          "base_uri": "https://localhost:8080/"
        },
        "id": "zuHr4pdM2iyE",
        "outputId": "27d79650-7732-4d7b-dae1-db3160b7ee66"
      },
      "execution_count": null,
      "outputs": [
        {
          "output_type": "stream",
          "name": "stdout",
          "text": [
            "2\n"
          ]
        }
      ]
    },
    {
      "cell_type": "markdown",
      "source": [
        "<h4> 4. lower(): Converts a string into lower case </h4>"
      ],
      "metadata": {
        "id": "IiPzYsCI3Zwz"
      }
    },
    {
      "cell_type": "code",
      "source": [
        "string =\"RAHUL IS GOOD BOY\"\n",
        "lower_string = string.lower()\n",
        "print(lower_string)"
      ],
      "metadata": {
        "colab": {
          "base_uri": "https://localhost:8080/"
        },
        "id": "6T1wfDV53deC",
        "outputId": "40834eec-7827-4504-8809-9d16174b4b5d"
      },
      "execution_count": null,
      "outputs": [
        {
          "output_type": "stream",
          "name": "stdout",
          "text": [
            "this is upper case sentence\n"
          ]
        }
      ]
    },
    {
      "cell_type": "markdown",
      "source": [
        "<h4>5. upper(): Converts a string into upper case</h4>"
      ],
      "metadata": {
        "id": "Ck6dexTR3tQ5"
      }
    },
    {
      "cell_type": "code",
      "source": [
        "string =\"rahul is good boy\"\n",
        "upper_string = string.upper()\n",
        "print(upper_string)"
      ],
      "metadata": {
        "colab": {
          "base_uri": "https://localhost:8080/"
        },
        "id": "Gb_OHzKO4Cyf",
        "outputId": "74ec057e-7773-4bb4-8dce-e27e7d5e6e4a"
      },
      "execution_count": null,
      "outputs": [
        {
          "output_type": "stream",
          "name": "stdout",
          "text": [
            "RAHUL IS GOOD BOY\n"
          ]
        }
      ]
    },
    {
      "cell_type": "markdown",
      "source": [
        "<h4>6. replace(): replace specified value with given value</h4>"
      ],
      "metadata": {
        "id": "1YTduFD14iVk"
      }
    },
    {
      "cell_type": "code",
      "source": [
        "string = \"I love apple\"\n",
        "\n",
        "x = string.replace(\"apple\", \"mango\")\n",
        "\n",
        "print(x)"
      ],
      "metadata": {
        "colab": {
          "base_uri": "https://localhost:8080/"
        },
        "id": "1m-tOHLk4tI5",
        "outputId": "b1d566fc-24c4-4204-ad68-1a47ebb057d5"
      },
      "execution_count": null,
      "outputs": [
        {
          "output_type": "stream",
          "name": "stdout",
          "text": [
            "I love mango\n"
          ]
        }
      ]
    },
    {
      "cell_type": "markdown",
      "source": [
        "<h4>7.title()\tConverts the first character of each word to upper case </h4>\n"
      ],
      "metadata": {
        "id": "uBygne6V5BJZ"
      }
    },
    {
      "cell_type": "code",
      "source": [
        "string = \"Rahul is good boy\"\n",
        "\n",
        "x = string.title()\n",
        "\n",
        "print(x)"
      ],
      "metadata": {
        "colab": {
          "base_uri": "https://localhost:8080/"
        },
        "id": "2YC6G0wq5KlJ",
        "outputId": "bc4bfd1f-b15c-470c-f475-10d1efcdb3d8"
      },
      "execution_count": null,
      "outputs": [
        {
          "output_type": "stream",
          "name": "stdout",
          "text": [
            "Rahul Is Good Boy\n"
          ]
        }
      ]
    },
    {
      "cell_type": "markdown",
      "source": [
        "<h4>8. swapcase(): Swaps cases, lower case becomes upper case and vice versa"
      ],
      "metadata": {
        "id": "InXAR3A_5ZD5"
      }
    },
    {
      "cell_type": "code",
      "source": [
        "string = \"RAHUL is good BOY\"\n",
        "\n",
        "x = string.swapcase()\n",
        "\n",
        "print(x)"
      ],
      "metadata": {
        "colab": {
          "base_uri": "https://localhost:8080/"
        },
        "id": "YlNVVxsN5cKe",
        "outputId": "d561c4b3-5a70-45af-8a66-1ba51feb9765"
      },
      "execution_count": null,
      "outputs": [
        {
          "output_type": "stream",
          "name": "stdout",
          "text": [
            "rahul IS GOOD boy\n"
          ]
        }
      ]
    },
    {
      "cell_type": "markdown",
      "source": [
        "<h4>9. index(): It returns index of given value </h4>"
      ],
      "metadata": {
        "id": "zvY2jhkT6ZUr"
      }
    },
    {
      "cell_type": "code",
      "source": [
        "string = \"RAHUL is good BOY\"\n",
        "\n",
        "x = string.index(\"is\")\n",
        "\n",
        "print(x)"
      ],
      "metadata": {
        "colab": {
          "base_uri": "https://localhost:8080/"
        },
        "id": "a_ZDB3z-6tqi",
        "outputId": "cd9de489-509e-4708-f454-640929ab1f1b"
      },
      "execution_count": null,
      "outputs": [
        {
          "output_type": "stream",
          "name": "stdout",
          "text": [
            "6\n"
          ]
        }
      ]
    },
    {
      "cell_type": "markdown",
      "source": [
        "<h4>10. split(): It breaks string from given value and creates list</h4>"
      ],
      "metadata": {
        "id": "48K-TAC46ZD9"
      }
    },
    {
      "cell_type": "code",
      "source": [
        "# split the string using space\n",
        "string = \"Rahul is good boy\"\n",
        "split_string = string.split(\" \")\n",
        "print(split_string)"
      ],
      "metadata": {
        "colab": {
          "base_uri": "https://localhost:8080/"
        },
        "id": "fqWJw4UW60t9",
        "outputId": "09a1d468-8fd6-497b-cc3a-d542d28f08e7"
      },
      "execution_count": null,
      "outputs": [
        {
          "output_type": "stream",
          "name": "stdout",
          "text": [
            "['Rahul', 'is', 'good', 'boy']\n"
          ]
        }
      ]
    },
    {
      "cell_type": "markdown",
      "source": [
        "## String Methods\n",
        "\n",
        "1. capitalize()\tConverts the first character to upper case\n",
        "\n",
        "2. casefold()\tConverts string into lower case\n",
        "\n",
        "3. center()\tReturns a centered string\n",
        "\n",
        "4. count()\tReturns the number of times a specified value occurs in a string\n",
        "\n",
        "5. encode()\tReturns an encoded version of the string\n",
        "\n",
        "6. endswith()\tReturns true if the string ends with the specified value\n",
        "\n",
        "7. expandtabs()\tSets the tab size of the string\n",
        "\n",
        "8. find()\tSearches the string for a specified value and returns the position of where it was found\n",
        "\n",
        "9. format()\tFormats specified values in a string\n",
        "\n",
        "10. format_map()\tFormats specified values in a string\n",
        "\n",
        "11. index()\tSearches the string for a specified value and returns the position of where it was found\n",
        "\n",
        "12. isalnum()\tReturns True if all characters in the string are alphanumeric\n",
        "\n",
        "13. isalpha()\tReturns True if all characters in the string are in the alphabet\n",
        "\n",
        "14. isdecimal()\tReturns True if all characters in the string are decimals\n",
        "\n",
        "15. isdigit()\tReturns True if all characters in the string are digits\n",
        "\n",
        "16. isidentifier()\tReturns True if the string is an identifier\n",
        "\n",
        "17. islower()\tReturns True if all characters in the string are lower case\n",
        "\n",
        "18. isnumeric()\tReturns True if all characters in the string are numeric\n",
        "\n",
        "19. isprintable()\tReturns True if all characters in the string are printable\n",
        "\n",
        "20. isspace()\tReturns True if all characters in the string are whitespaces\n",
        "\n",
        "21. istitle()\tReturns True if the string follows the rules of a title\n",
        "\n",
        "22. isupper()\tReturns True if all characters in the string are upper case\n",
        "\n",
        "23. join()\tJoins the elements of an iterable to the end of the string\n",
        "\n",
        "24. ljust()\tReturns a left justified version of the string\n",
        "\n",
        "25. lower()\tConverts a string into lower case\n",
        "\n",
        "26. lstrip()\tReturns a left trim version of the string\n",
        "\n",
        "27. maketrans()\tReturns a translation table to be used in translations\n",
        "\n",
        "28. partition()\tReturns a tuple where the string is parted into three parts\n",
        "\n",
        "29. replace()\tReturns a string where a specified value is replaced with a specified value\n",
        "\n",
        "30. rfind()\tSearches the string for a specified value and returns the last position of where it was found\n",
        "\n",
        "31. rindex()\tSearches the string for a specified value and returns the last position of where it was found\n",
        "\n",
        "32. rjust()\tReturns a right justified version of the string\n",
        "\n",
        "33. rpartition()\tReturns a tuple where the string is parted into three parts\n",
        "\n",
        "34. rsplit()\tSplits the string at the specified separator, and returns a list\n",
        "\n",
        "35. rstrip()\tReturns a right trim version of the string\n",
        "\n",
        "36. split()\tSplits the string at the specified separator, and returns a list\n",
        "\n",
        "37. splitlines()\tSplits the string at line breaks and returns a list\n",
        "\n",
        "38. startswith()\tReturns true if the string starts with the specified value\n",
        "\n",
        "39. strip()\tReturns a trimmed version of the string\n",
        "\n",
        "40. swapcase()\tSwaps cases, lower case becomes upper case and vice versa\n",
        "\n",
        "41. title()\tConverts the first character of each word to upper case\n",
        "\n",
        "42. translate()\tReturns a translated string\n",
        "\n",
        "43. upper()\tConverts a string into upper case\n",
        "\n",
        "44. zfill()\tFills the string with a specified number of 0 values at the beginning"
      ],
      "metadata": {
        "id": "oPI-um7C6Nw7"
      }
    },
    {
      "cell_type": "markdown",
      "source": [
        "# Exercise"
      ],
      "metadata": {
        "id": "SFQNcv0r7-TQ"
      }
    },
    {
      "cell_type": "code",
      "source": [
        "# 1. Write a python program to calculate the lenght of string\n",
        "string = \"Data is new oil\""
      ],
      "metadata": {
        "id": "CIa4_9Ap8UNd"
      },
      "execution_count": null,
      "outputs": []
    },
    {
      "cell_type": "code",
      "source": [
        "# 2. Find the count of word \"data\".\n",
        "string = \"data is new oil hence data science is emerging field\""
      ],
      "metadata": {
        "id": "WjoIIfXx8dwH"
      },
      "execution_count": null,
      "outputs": []
    },
    {
      "cell_type": "code",
      "source": [
        "# 3. Using string slicing and step print result=\"IDA\"\n",
        "string = \"INDIA\""
      ],
      "metadata": {
        "id": "nUX_gePo860T"
      },
      "execution_count": null,
      "outputs": []
    },
    {
      "cell_type": "code",
      "source": [
        "# 4. Replace \"good\" with \"bad\"\n",
        "string = \"Rahul is good boy\""
      ],
      "metadata": {
        "id": "F6LrcXjY9UqU"
      },
      "execution_count": null,
      "outputs": []
    },
    {
      "cell_type": "code",
      "source": [
        "# 5. Check if string starts with \"data\"\n",
        "string = \"data is new oil\""
      ],
      "metadata": {
        "id": "0JIDmXiX9lR_"
      },
      "execution_count": null,
      "outputs": []
    },
    {
      "cell_type": "code",
      "source": [
        "# 6. print the starting index of \"boy\"\n",
        "string = \"Rahul is good boy\"\n"
      ],
      "metadata": {
        "id": "8FCQw7XP95Yb"
      },
      "execution_count": null,
      "outputs": []
    },
    {
      "cell_type": "code",
      "source": [
        "# 7. swape the upper case to lower case and lower case to upper case\n",
        "string = \" DATA is new OIL\""
      ],
      "metadata": {
        "id": "EQ48C-PV-Wx6"
      },
      "execution_count": null,
      "outputs": []
    },
    {
      "cell_type": "code",
      "source": [
        "# 8. Split the sentence at every slash \"/\"\n",
        "string = \"data/is/new/oil\""
      ],
      "metadata": {
        "id": "puNYWMQW-q4f"
      },
      "execution_count": null,
      "outputs": []
    }
  ]
}